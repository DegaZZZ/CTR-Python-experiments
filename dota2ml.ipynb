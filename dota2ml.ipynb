{
  "nbformat": 4,
  "nbformat_minor": 0,
  "metadata": {
    "colab": {
      "name": "project",
      "provenance": [],
      "collapsed_sections": [],
      "toc_visible": true
    },
    "kernelspec": {
      "name": "python3",
      "display_name": "Python 3"
    },
    "language_info": {
      "name": "python"
    }
  },
  "cells": [
    {
      "cell_type": "code",
      "execution_count": 1,
      "metadata": {
        "id": "qjiqRp30AAcF"
      },
      "outputs": [],
      "source": [
        "import urllib3\n",
        "from urllib3 import request\n",
        "import certifi\n",
        "import json\n",
        "import pandas as pd\n",
        "import numpy as np\n",
        "from sklearn.linear_model import LogisticRegression\n",
        "from sklearn.model_selection import train_test_split\n",
        "from sklearn import metrics\n",
        "import seaborn as sn\n",
        "import matplotlib.pyplot as plt"
      ]
    },
    {
      "cell_type": "code",
      "source": [
        "#shouldn't be runned again, as it will reset already existing dataset\n",
        "dota2DataFrame = pd.DataFrame(columns = ['match_id', 'duration','REFF@10', 'RCREEPS@10', 'DEFF@10', 'DCREEPS@10' ,'RGA@10', 'RXA@10', 'radiant_win'])"
      ],
      "metadata": {
        "id": "nQrBgkVTCQOe"
      },
      "execution_count": null,
      "outputs": []
    },
    {
      "cell_type": "code",
      "source": [
        "#loading already fetched data\n",
        "dota2DataFrame = pd.read_csv('/content/sample_data/dota2ml.csv').drop('Unnamed: 0', axis=1)"
      ],
      "metadata": {
        "id": "86GsiVB6DxRR"
      },
      "execution_count": 81,
      "outputs": []
    },
    {
      "cell_type": "code",
      "source": [
        "http = urllib3.PoolManager(\n",
        "       cert_reqs='CERT_REQUIRED',\n",
        "       ca_certs=certifi.where())"
      ],
      "metadata": {
        "id": "d0En3UOSATiG"
      },
      "execution_count": 3,
      "outputs": []
    },
    {
      "cell_type": "code",
      "source": [
        "url = 'https://api.opendota.com/api/parsedMatches'\n",
        "r = http.request('GET', url)\n",
        "print(r.status)\n",
        "data = json.loads(r.data.decode('utf-8'))\n",
        "df = pd.json_normalize(data)"
      ],
      "metadata": {
        "colab": {
          "base_uri": "https://localhost:8080/"
        },
        "id": "6j4iWuppAco-",
        "outputId": "9f1d9d93-d38f-4add-87f0-54d21cd9d66f"
      },
      "execution_count": 82,
      "outputs": [
        {
          "output_type": "stream",
          "name": "stdout",
          "text": [
            "200\n"
          ]
        }
      ]
    },
    {
      "cell_type": "code",
      "source": [
        "for i in range(45):\n",
        "\n",
        "  urltest = 'https://api.opendota.com/api/matches/%s' % df['match_id'][i]\n",
        "  reff = 0.0\n",
        "  deff = 0.0\n",
        "  rCreeps = 0\n",
        "  dCreeps = 0\n",
        "  r = http.request('GET', urltest)\n",
        "  ata = json.loads(r.data.decode('utf-8'))\n",
        "  df2 = pd.json_normalize(ata)\n",
        "  temp_df = pd.json_normalize(df2['players'][0])\n",
        "\n",
        "  if df2['duration'][0] > 600:\n",
        "    for k in range(10):\n",
        "      if k <= 4:\n",
        "        reff += temp_df['lane_efficiency_pct'][k]\n",
        "        rCreeps += temp_df['lh_t'][k][10]\n",
        "      else:\n",
        "        deff += temp_df['lane_efficiency_pct'][k]\n",
        "        dCreeps += temp_df['lh_t'][k][10]\n",
        "    df2['radiant_gold_adv'] = df2['radiant_gold_adv'][0][10]\n",
        "    df2['radiant_xp_adv'] = df2['radiant_xp_adv'][0][10]\n",
        "    dota2DataFrame.loc[i+dota2DataFrame.shape[0]] = [df2['match_id'][0], df2['duration'][0], reff / 5, rCreeps, deff / 5, dCreeps, df2['radiant_gold_adv'][0], df2['radiant_xp_adv'][0], df2['radiant_win'][0]]\n"
      ],
      "metadata": {
        "id": "9x_r9TNlOAcw"
      },
      "execution_count": 83,
      "outputs": []
    },
    {
      "cell_type": "code",
      "source": [
        "dota2DataFrame = dota2DataFrame.drop_duplicates().reset_index().drop('index', axis = 1)\n",
        "dota2DataFrame"
      ],
      "metadata": {
        "colab": {
          "base_uri": "https://localhost:8080/",
          "height": 424
        },
        "id": "F_Ys54HNUnB1",
        "outputId": "add444f8-9787-41a6-cfa6-6433cc03b971"
      },
      "execution_count": 84,
      "outputs": [
        {
          "output_type": "execute_result",
          "data": {
            "text/plain": [
              "       match_id  duration  REFF@10  RCREEPS@10  DEFF@10  DCREEPS@10  RGA@10  \\\n",
              "0    6501224294       747    191.6         191    145.8         172   11394   \n",
              "1    6501222069       738     54.0          82     56.8          81    -648   \n",
              "2    6501220593      1002    138.4         116     83.0          62   13696   \n",
              "3    6501219014      1138    112.2         120    128.8         149   -4122   \n",
              "4    6501218564      1101    170.8         150    121.0         103   12334   \n",
              "..          ...       ...      ...         ...      ...         ...     ...   \n",
              "943  6502273817      1428     57.8         154     57.8         118      58   \n",
              "944  6502273523      1470     56.6         159     56.2         161     104   \n",
              "945  6502273269       876    148.6         224    108.0         128   10032   \n",
              "946  6502272422      1072    143.4         133     99.0          87   10960   \n",
              "947  6502272381      1549     48.2          91     60.8         122   -3116   \n",
              "\n",
              "     RXA@10  radiant_win  \n",
              "0      8354         True  \n",
              "1      -156        False  \n",
              "2     14366         True  \n",
              "3     -5053         True  \n",
              "4     11041         True  \n",
              "..      ...          ...  \n",
              "943    1997         True  \n",
              "944   -1118        False  \n",
              "945    9236         True  \n",
              "946   15226         True  \n",
              "947   -2990        False  \n",
              "\n",
              "[948 rows x 9 columns]"
            ],
            "text/html": [
              "\n",
              "  <div id=\"df-9397296d-5718-488b-b6c8-19d2e128a686\">\n",
              "    <div class=\"colab-df-container\">\n",
              "      <div>\n",
              "<style scoped>\n",
              "    .dataframe tbody tr th:only-of-type {\n",
              "        vertical-align: middle;\n",
              "    }\n",
              "\n",
              "    .dataframe tbody tr th {\n",
              "        vertical-align: top;\n",
              "    }\n",
              "\n",
              "    .dataframe thead th {\n",
              "        text-align: right;\n",
              "    }\n",
              "</style>\n",
              "<table border=\"1\" class=\"dataframe\">\n",
              "  <thead>\n",
              "    <tr style=\"text-align: right;\">\n",
              "      <th></th>\n",
              "      <th>match_id</th>\n",
              "      <th>duration</th>\n",
              "      <th>REFF@10</th>\n",
              "      <th>RCREEPS@10</th>\n",
              "      <th>DEFF@10</th>\n",
              "      <th>DCREEPS@10</th>\n",
              "      <th>RGA@10</th>\n",
              "      <th>RXA@10</th>\n",
              "      <th>radiant_win</th>\n",
              "    </tr>\n",
              "  </thead>\n",
              "  <tbody>\n",
              "    <tr>\n",
              "      <th>0</th>\n",
              "      <td>6501224294</td>\n",
              "      <td>747</td>\n",
              "      <td>191.6</td>\n",
              "      <td>191</td>\n",
              "      <td>145.8</td>\n",
              "      <td>172</td>\n",
              "      <td>11394</td>\n",
              "      <td>8354</td>\n",
              "      <td>True</td>\n",
              "    </tr>\n",
              "    <tr>\n",
              "      <th>1</th>\n",
              "      <td>6501222069</td>\n",
              "      <td>738</td>\n",
              "      <td>54.0</td>\n",
              "      <td>82</td>\n",
              "      <td>56.8</td>\n",
              "      <td>81</td>\n",
              "      <td>-648</td>\n",
              "      <td>-156</td>\n",
              "      <td>False</td>\n",
              "    </tr>\n",
              "    <tr>\n",
              "      <th>2</th>\n",
              "      <td>6501220593</td>\n",
              "      <td>1002</td>\n",
              "      <td>138.4</td>\n",
              "      <td>116</td>\n",
              "      <td>83.0</td>\n",
              "      <td>62</td>\n",
              "      <td>13696</td>\n",
              "      <td>14366</td>\n",
              "      <td>True</td>\n",
              "    </tr>\n",
              "    <tr>\n",
              "      <th>3</th>\n",
              "      <td>6501219014</td>\n",
              "      <td>1138</td>\n",
              "      <td>112.2</td>\n",
              "      <td>120</td>\n",
              "      <td>128.8</td>\n",
              "      <td>149</td>\n",
              "      <td>-4122</td>\n",
              "      <td>-5053</td>\n",
              "      <td>True</td>\n",
              "    </tr>\n",
              "    <tr>\n",
              "      <th>4</th>\n",
              "      <td>6501218564</td>\n",
              "      <td>1101</td>\n",
              "      <td>170.8</td>\n",
              "      <td>150</td>\n",
              "      <td>121.0</td>\n",
              "      <td>103</td>\n",
              "      <td>12334</td>\n",
              "      <td>11041</td>\n",
              "      <td>True</td>\n",
              "    </tr>\n",
              "    <tr>\n",
              "      <th>...</th>\n",
              "      <td>...</td>\n",
              "      <td>...</td>\n",
              "      <td>...</td>\n",
              "      <td>...</td>\n",
              "      <td>...</td>\n",
              "      <td>...</td>\n",
              "      <td>...</td>\n",
              "      <td>...</td>\n",
              "      <td>...</td>\n",
              "    </tr>\n",
              "    <tr>\n",
              "      <th>943</th>\n",
              "      <td>6502273817</td>\n",
              "      <td>1428</td>\n",
              "      <td>57.8</td>\n",
              "      <td>154</td>\n",
              "      <td>57.8</td>\n",
              "      <td>118</td>\n",
              "      <td>58</td>\n",
              "      <td>1997</td>\n",
              "      <td>True</td>\n",
              "    </tr>\n",
              "    <tr>\n",
              "      <th>944</th>\n",
              "      <td>6502273523</td>\n",
              "      <td>1470</td>\n",
              "      <td>56.6</td>\n",
              "      <td>159</td>\n",
              "      <td>56.2</td>\n",
              "      <td>161</td>\n",
              "      <td>104</td>\n",
              "      <td>-1118</td>\n",
              "      <td>False</td>\n",
              "    </tr>\n",
              "    <tr>\n",
              "      <th>945</th>\n",
              "      <td>6502273269</td>\n",
              "      <td>876</td>\n",
              "      <td>148.6</td>\n",
              "      <td>224</td>\n",
              "      <td>108.0</td>\n",
              "      <td>128</td>\n",
              "      <td>10032</td>\n",
              "      <td>9236</td>\n",
              "      <td>True</td>\n",
              "    </tr>\n",
              "    <tr>\n",
              "      <th>946</th>\n",
              "      <td>6502272422</td>\n",
              "      <td>1072</td>\n",
              "      <td>143.4</td>\n",
              "      <td>133</td>\n",
              "      <td>99.0</td>\n",
              "      <td>87</td>\n",
              "      <td>10960</td>\n",
              "      <td>15226</td>\n",
              "      <td>True</td>\n",
              "    </tr>\n",
              "    <tr>\n",
              "      <th>947</th>\n",
              "      <td>6502272381</td>\n",
              "      <td>1549</td>\n",
              "      <td>48.2</td>\n",
              "      <td>91</td>\n",
              "      <td>60.8</td>\n",
              "      <td>122</td>\n",
              "      <td>-3116</td>\n",
              "      <td>-2990</td>\n",
              "      <td>False</td>\n",
              "    </tr>\n",
              "  </tbody>\n",
              "</table>\n",
              "<p>948 rows × 9 columns</p>\n",
              "</div>\n",
              "      <button class=\"colab-df-convert\" onclick=\"convertToInteractive('df-9397296d-5718-488b-b6c8-19d2e128a686')\"\n",
              "              title=\"Convert this dataframe to an interactive table.\"\n",
              "              style=\"display:none;\">\n",
              "        \n",
              "  <svg xmlns=\"http://www.w3.org/2000/svg\" height=\"24px\"viewBox=\"0 0 24 24\"\n",
              "       width=\"24px\">\n",
              "    <path d=\"M0 0h24v24H0V0z\" fill=\"none\"/>\n",
              "    <path d=\"M18.56 5.44l.94 2.06.94-2.06 2.06-.94-2.06-.94-.94-2.06-.94 2.06-2.06.94zm-11 1L8.5 8.5l.94-2.06 2.06-.94-2.06-.94L8.5 2.5l-.94 2.06-2.06.94zm10 10l.94 2.06.94-2.06 2.06-.94-2.06-.94-.94-2.06-.94 2.06-2.06.94z\"/><path d=\"M17.41 7.96l-1.37-1.37c-.4-.4-.92-.59-1.43-.59-.52 0-1.04.2-1.43.59L10.3 9.45l-7.72 7.72c-.78.78-.78 2.05 0 2.83L4 21.41c.39.39.9.59 1.41.59.51 0 1.02-.2 1.41-.59l7.78-7.78 2.81-2.81c.8-.78.8-2.07 0-2.86zM5.41 20L4 18.59l7.72-7.72 1.47 1.35L5.41 20z\"/>\n",
              "  </svg>\n",
              "      </button>\n",
              "      \n",
              "  <style>\n",
              "    .colab-df-container {\n",
              "      display:flex;\n",
              "      flex-wrap:wrap;\n",
              "      gap: 12px;\n",
              "    }\n",
              "\n",
              "    .colab-df-convert {\n",
              "      background-color: #E8F0FE;\n",
              "      border: none;\n",
              "      border-radius: 50%;\n",
              "      cursor: pointer;\n",
              "      display: none;\n",
              "      fill: #1967D2;\n",
              "      height: 32px;\n",
              "      padding: 0 0 0 0;\n",
              "      width: 32px;\n",
              "    }\n",
              "\n",
              "    .colab-df-convert:hover {\n",
              "      background-color: #E2EBFA;\n",
              "      box-shadow: 0px 1px 2px rgba(60, 64, 67, 0.3), 0px 1px 3px 1px rgba(60, 64, 67, 0.15);\n",
              "      fill: #174EA6;\n",
              "    }\n",
              "\n",
              "    [theme=dark] .colab-df-convert {\n",
              "      background-color: #3B4455;\n",
              "      fill: #D2E3FC;\n",
              "    }\n",
              "\n",
              "    [theme=dark] .colab-df-convert:hover {\n",
              "      background-color: #434B5C;\n",
              "      box-shadow: 0px 1px 3px 1px rgba(0, 0, 0, 0.15);\n",
              "      filter: drop-shadow(0px 1px 2px rgba(0, 0, 0, 0.3));\n",
              "      fill: #FFFFFF;\n",
              "    }\n",
              "  </style>\n",
              "\n",
              "      <script>\n",
              "        const buttonEl =\n",
              "          document.querySelector('#df-9397296d-5718-488b-b6c8-19d2e128a686 button.colab-df-convert');\n",
              "        buttonEl.style.display =\n",
              "          google.colab.kernel.accessAllowed ? 'block' : 'none';\n",
              "\n",
              "        async function convertToInteractive(key) {\n",
              "          const element = document.querySelector('#df-9397296d-5718-488b-b6c8-19d2e128a686');\n",
              "          const dataTable =\n",
              "            await google.colab.kernel.invokeFunction('convertToInteractive',\n",
              "                                                     [key], {});\n",
              "          if (!dataTable) return;\n",
              "\n",
              "          const docLinkHtml = 'Like what you see? Visit the ' +\n",
              "            '<a target=\"_blank\" href=https://colab.research.google.com/notebooks/data_table.ipynb>data table notebook</a>'\n",
              "            + ' to learn more about interactive tables.';\n",
              "          element.innerHTML = '';\n",
              "          dataTable['output_type'] = 'display_data';\n",
              "          await google.colab.output.renderOutput(dataTable, element);\n",
              "          const docLink = document.createElement('div');\n",
              "          docLink.innerHTML = docLinkHtml;\n",
              "          element.appendChild(docLink);\n",
              "        }\n",
              "      </script>\n",
              "    </div>\n",
              "  </div>\n",
              "  "
            ]
          },
          "metadata": {},
          "execution_count": 84
        }
      ]
    },
    {
      "cell_type": "code",
      "source": [
        "#Radiant win\\loss\n",
        "sn.countplot(x = 'radiant_win', data = dota2DataFrame)"
      ],
      "metadata": {
        "colab": {
          "base_uri": "https://localhost:8080/",
          "height": 297
        },
        "id": "hsF2_cn54q4x",
        "outputId": "557e35dd-d08a-46e4-c09f-3740fa889f3d"
      },
      "execution_count": 85,
      "outputs": [
        {
          "output_type": "execute_result",
          "data": {
            "text/plain": [
              "<matplotlib.axes._subplots.AxesSubplot at 0x7f8188eeda50>"
            ]
          },
          "metadata": {},
          "execution_count": 85
        },
        {
          "output_type": "display_data",
          "data": {
            "text/plain": [
              "<Figure size 432x288 with 1 Axes>"
            ],
            "image/png": "[encoded data removed]"
          },
          "metadata": {
            "needs_background": "light"
          }
        }
      ]
    },
    {
      "cell_type": "code",
      "source": [
        "X = dota2DataFrame[['REFF@10', 'RCREEPS@10', 'DEFF@10', 'DCREEPS@10' ,'RGA@10', 'RXA@10']]\n",
        "y = dota2DataFrame['radiant_win'].replace(False, 0).replace(True, 1)"
      ],
      "metadata": {
        "id": "DeMh94fRjjZ4"
      },
      "execution_count": 86,
      "outputs": []
    },
    {
      "cell_type": "code",
      "source": [
        "X_train,X_test,y_train,y_test = train_test_split(X,y,test_size=0.2, random_state = 0)"
      ],
      "metadata": {
        "id": "dk060Vehj2LQ"
      },
      "execution_count": 87,
      "outputs": []
    },
    {
      "cell_type": "code",
      "source": [
        "logistic_regression = LogisticRegression()\n",
        "logistic_regression.fit(X_train,y_train)\n",
        "y_log_pred_train = logistic_regression.predict(X_train)\n",
        "y_log_pred_test = logistic_regression.predict(X_test)"
      ],
      "metadata": {
        "id": "B3e_uoMOkKLs"
      },
      "execution_count": 88,
      "outputs": []
    },
    {
      "cell_type": "code",
      "source": [
        "print('Accuracy train: ',metrics.accuracy_score(y_train, y_log_pred_train))\n",
        "print('train error: ',metrics.log_loss(y_train, y_log_pred_train))\n",
        "print('Accuracy test: ',metrics.accuracy_score(y_test, y_log_pred_test))\n",
        "print('test error: ',metrics.log_loss(y_test, y_log_pred_test))"
      ],
      "metadata": {
        "colab": {
          "base_uri": "https://localhost:8080/"
        },
        "id": "Jtkr1lp0kKGV",
        "outputId": "1dd254b8-6f0d-4601-d8ce-035427eb2796"
      },
      "execution_count": 89,
      "outputs": [
        {
          "output_type": "stream",
          "name": "stdout",
          "text": [
            "Accuracy train:  0.7849604221635884\n",
            "train error:  7.427300943712426\n",
            "Accuracy test:  0.7578947368421053\n",
            "test error:  8.362107924799608\n"
          ]
        }
      ]
    },
    {
      "cell_type": "code",
      "source": [
        "confusion_matrix = pd.crosstab(y_test, y_log_pred_test, rownames=['Actual'], colnames=['Predicted'])\n",
        "sn.heatmap(confusion_matrix, annot=True)"
      ],
      "metadata": {
        "colab": {
          "base_uri": "https://localhost:8080/",
          "height": 296
        },
        "id": "H4kaPN7C81ja",
        "outputId": "a0e37fe1-b0b9-4fdf-c94f-da44df8eebaa"
      },
      "execution_count": 90,
      "outputs": [
        {
          "output_type": "execute_result",
          "data": {
            "text/plain": [
              "<matplotlib.axes._subplots.AxesSubplot at 0x7f81855a7110>"
            ]
          },
          "metadata": {},
          "execution_count": 90
        },
        {
          "output_type": "display_data",
          "data": {
            "text/plain": [
              "<Figure size 432x288 with 2 Axes>"
            ],
            "image/png": "[encoded data removed]"
          },
          "metadata": {
            "needs_background": "light"
          }
        }
      ]
    },
    {
      "cell_type": "code",
      "source": [
        "from sklearn.neighbors import KNeighborsClassifier"
      ],
      "metadata": {
        "id": "KykpadSzs_VL"
      },
      "execution_count": 91,
      "outputs": []
    },
    {
      "cell_type": "code",
      "source": [
        "dotaNeigh = KNeighborsClassifier(n_neighbors=5)\n",
        "dotaNeigh.fit(X, y)\n",
        "y_knn_pred_train = dotaNeigh.predict(X_train)\n",
        "y_knn_pred_test = dotaNeigh.predict(X_test)\n",
        "\n",
        "print('Accuracy train: ',metrics.accuracy_score(y_train, y_knn_pred_train))\n",
        "print('train error: ',metrics.zero_one_loss(y_train, y_knn_pred_train))\n",
        "print('Accuracy test: ',metrics.accuracy_score(y_test, y_knn_pred_test))\n",
        "print('test error: ',metrics.zero_one_loss(y_test, y_knn_pred_test))"
      ],
      "metadata": {
        "colab": {
          "base_uri": "https://localhost:8080/"
        },
        "id": "y4r-9QHrqp3o",
        "outputId": "25bb31c3-a20b-4ef3-9811-b2eee05e1697"
      },
      "execution_count": 92,
      "outputs": [
        {
          "output_type": "stream",
          "name": "stdout",
          "text": [
            "Accuracy train:  0.816622691292876\n",
            "train error:  0.183377308707124\n",
            "Accuracy test:  0.7631578947368421\n",
            "test error:  0.23684210526315785\n"
          ]
        }
      ]
    },
    {
      "cell_type": "code",
      "source": [
        "confusion_matrix = pd.crosstab(y_test, y_knn_pred_test, rownames=['Actual'], colnames=['Predicted'])\n",
        "sn.heatmap(confusion_matrix, annot=True)"
      ],
      "metadata": {
        "colab": {
          "base_uri": "https://localhost:8080/",
          "height": 296
        },
        "id": "HQNgSTlNte5b",
        "outputId": "28480211-6655-49f7-df25-b6e02c0ffd13"
      },
      "execution_count": 97,
      "outputs": [
        {
          "output_type": "execute_result",
          "data": {
            "text/plain": [
              "<matplotlib.axes._subplots.AxesSubplot at 0x7f81853ab810>"
            ]
          },
          "metadata": {},
          "execution_count": 97
        },
        {
          "output_type": "display_data",
          "data": {
            "text/plain": [
              "<Figure size 432x288 with 2 Axes>"
            ],
            "image/png": "[encoded data removed]"
          },
          "metadata": {
            "needs_background": "light"
          }
        }
      ]
    },
    {
      "cell_type": "code",
      "source": [
        "from sklearn.neural_network import MLPClassifier"
      ],
      "metadata": {
        "id": "C2hKud-evWlf"
      },
      "execution_count": 94,
      "outputs": []
    },
    {
      "cell_type": "code",
      "source": [
        "mlp = MLPClassifier(hidden_layer_sizes=(125, 75, 25), max_iter=200 ,random_state=42)\n",
        "mlp.fit(X, y)\n",
        "y_mlp_pred_train = mlp.predict(X_train)\n",
        "y_mlp_pred_test = mlp.predict(X_test)\n",
        "\n",
        "print('Accuracy train: ',metrics.accuracy_score(y_train, y_mlp_pred_train))\n",
        "print('train error: ',metrics.log_loss(y_train, y_mlp_pred_train))\n",
        "print('Accuracy test: ',metrics.accuracy_score(y_test, y_mlp_pred_test))\n",
        "print('test error: ',metrics.log_loss(y_test, y_mlp_pred_test))"
      ],
      "metadata": {
        "id": "nqSRjr-dwAvL",
        "colab": {
          "base_uri": "https://localhost:8080/"
        },
        "outputId": "b8105071-e9c1-4943-950c-be47b16879c1"
      },
      "execution_count": 98,
      "outputs": [
        {
          "output_type": "stream",
          "name": "stdout",
          "text": [
            "Accuracy train:  0.7704485488126649\n",
            "train error:  7.928528566840617\n",
            "Accuracy test:  0.7842105263157895\n",
            "test error:  7.453192756512484\n"
          ]
        }
      ]
    },
    {
      "cell_type": "code",
      "source": [
        "confusion_matrix = pd.crosstab(y_test, y_mlp_pred_test, rownames=['Actual'], colnames=['Predicted'])\n",
        "sn.heatmap(confusion_matrix, annot=True)"
      ],
      "metadata": {
        "id": "qhqolcywysIt",
        "colab": {
          "base_uri": "https://localhost:8080/",
          "height": 296
        },
        "outputId": "ba08c901-8579-4e5a-c9fe-0fd4cb7b42c6"
      },
      "execution_count": 96,
      "outputs": [
        {
          "output_type": "execute_result",
          "data": {
            "text/plain": [
              "<matplotlib.axes._subplots.AxesSubplot at 0x7f81854e9ad0>"
            ]
          },
          "metadata": {},
          "execution_count": 96
        },
        {
          "output_type": "display_data",
          "data": {
            "text/plain": [
              "<Figure size 432x288 with 2 Axes>"
            ],
            "image/png": "[encoded data removed]"
          },
          "metadata": {
            "needs_background": "light"
          }
        }
      ]
    },
    {
      "cell_type": "code",
      "source": [
        "dota2DataFrame.to_csv()"
      ],
      "metadata": {
        "id": "iEegNusJRFh4",
        "outputId": "0e12b815-e5e4-4a51-d7b4-f863afa1f9b0",
        "colab": {
          "base_uri": "https://localhost:8080/",
          "height": 105
        }
      },
      "execution_count": null,
      "outputs": [
        {
          "output_type": "execute_result",
          "data": {
            "text/plain": [
              "',match_id,duration,REFF@10,RCREEPS@10,DEFF@10,DCREEPS@10,RGA@10,RXA@10,radiant_win\\n0,6501224294,747,191.6,191,145.8,172,11394,8354,True\\n1,6501222069,738,54.0,82,56.8,81,-648,-156,False\\n2,6501220593,1002,138.4,116,83.0,62,13696,14366,True\\n3,6501219014,1138,112.2,120,128.8,149,-4122,-5053,True\\n4,6501218564,1101,170.8,150,121.0,103,12334,11041,True\\n5,6501218052,1118,69.2,204,47.2,134,5421,4721,True\\n6,6501217234,1137,144.6,105,109.8,87,8642,10052,True\\n7,6501217083,1107,144.0,198,110.0,109,8350,10943,True\\n8,6501216269,1319,136.2,164,146.8,147,-2572,-105,False\\n9,6501216096,1225,154.4,202,135.2,173,4698,2972,True\\n10,6501216073,976,112.8,87,120.6,148,-1920,-1033,False\\n11,6501215830,1267,146.0,172,113.4,161,8044,9714,True\\n12,6501215660,1198,110.4,135,144.2,155,-8406,-14301,False\\n13,6501215466,1160,131.4,103,113.0,114,4528,6683,True\\n14,6501215372,1110,146.8,174,127.2,102,4836,7102,True\\n15,6501215297,1314,115.6,112,134.4,191,-4598,-6855,False\\n16,6501215065,1223,67.2,154,51.2,135,3879,3281,True\\n17,6501214831,1203,162.4,176,143.8,112,4740,2698,False\\n18,6501214743,1277,125.8,139,121.2,148,1146,-968,True\\n19,6501214561,1003,165.6,94,123.8,84,10322,18338,True\\n20,6501214441,1368,162.8,166,118.0,160,11068,12415,True\\n21,6501214086,1287,136.0,137,119.2,122,4220,-2136,True\\n22,6501213631,1394,191.6,301,145.0,223,11538,16212,True\\n23,6501213313,1141,113.6,140,171.8,231,-14426,-12162,False\\n24,6501274707,809,103.2,128,172.4,232,-17000,-17860,False\\n25,6501270818,2036,59.0,195,61.2,184,-411,-1705,False\\n26,6501212841,1030,178.2,177,127.6,157,12524,11477,True\\n27,6501212524,1101,115.2,129,147.6,187,-7912,-3288,False\\n28,6501212154,1185,127.0,116,165.6,172,-9565,-10990,False\\n29,6501212049,1099,125.2,147,111.2,140,3478,3442,True\\n30,6501211979,1232,57.4,153,57.4,185,-9,-518,False\\n31,6501266457,1193,152.8,189,150.6,152,482,-942,False\\n32,6501211698,1511,115.0,107,127.4,172,-3162,-3510,False\\n33,6501211621,836,150.6,178,134.6,158,3940,2686,True\\n34,6501211554,1170,136.8,114,127.4,139,2296,11085,False\\n35,6501211528,1257,151.6,223,139.0,174,3112,1324,True\\n36,6501211384,1195,119.8,113,137.0,126,-4226,-575,False\\n37,6501315263,1295,50.0,123,60.0,182,-2514,-4511,False\\n38,6501312215,1865,43.8,135,57.8,145,-3432,-3111,False\\n39,6501299520,1838,61.4,194,57.8,167,864,554,True\\n40,6501293932,1975,57.6,136,65.0,171,-1799,-798,False\\n41,6501280585,2355,49.0,125,56.8,151,-1933,-1261,False\\n42,6501276202,3306,52.6,132,43.4,99,2300,2580,True\\n43,6501273477,876,113.0,164,154.6,166,-10286,-13745,False\\n44,6501270143,1031,97.2,118,144.8,194,-11780,-13126,False\\n45,6501270044,1038,111.0,112,153.8,134,-10596,-8239,False\\n46,6501268625,1061,176.8,144,119.4,72,14214,19648,True\\n47,6501268132,2488,50.4,123,55.8,139,-1280,-3005,False\\n48,6501267384,2695,44.6,121,61.4,164,-4249,-3259,True\\n49,6501266010,2389,48.4,141,54.8,171,-1605,-246,False\\n50,6501265974,988,175.2,180,112.4,147,15634,17079,True\\n51,6501265576,1319,144.8,197,148.8,150,-996,1447,True\\n52,6501265200,1164,131.6,105,119.6,121,2994,-428,True\\n53,6501265140,1326,169.8,187,145.2,147,6054,-516,True\\n54,6501264864,1120,98.8,63,134.2,102,-8764,-8593,False\\n55,6501264728,1311,133.8,119,124.2,153,2410,4986,True\\n56,6501264387,1142,92.8,106,112.4,152,-4846,-2003,False\\n57,6501264101,1186,136.6,149,128.6,121,1938,4625,True\\n58,6501263846,1046,126.0,114,152.2,107,-6422,-12087,False\\n59,6501263634,1197,50.2,147,69.2,181,-4711,-4890,False\\n60,6501263630,1093,134.4,148,108.4,144,6428,3022,True\\n61,6501263514,1228,155.0,186,121.4,133,8360,7987,False\\n62,6501263510,1443,137.6,147,117.8,104,4910,1906,False\\n63,6501263421,949,141.4,153,99.2,63,10454,12539,True\\n64,6501262964,1370,127.2,125,143.2,152,-3968,-4797,False\\n65,6501262389,1202,123.2,129,117.8,179,1304,-134,True\\n66,6501262388,1317,167.0,174,106.6,100,15026,16402,True\\n67,6501262363,1451,158.0,137,111.0,86,11596,15903,True\\n68,6501262339,1267,64.2,166,45.0,111,4801,4283,True\\n69,6501262134,1497,128.2,93,165.0,139,-9044,-10236,False\\n70,6501261958,1370,139.4,134,153.8,158,-3490,-2755,False\\n71,6501261786,1251,128.0,118,121.0,133,1714,-4147,False\\n72,6501448862,1731,154.0,183,149.4,205,1104,5446,False\\n73,6501443120,2034,47.0,107,52.4,146,-1406,-157,False\\n74,6501431240,2382,42.6,124,56.6,148,-3408,-3445,False\\n75,6501429305,2876,46.8,122,51.0,127,-1062,-1712,False\\n76,6501428398,2482,65.2,189,51.8,156,3390,2925,False\\n77,6501408613,3681,61.0,205,55.6,172,1293,2332,False\\n78,6501406800,3024,56.8,117,54.4,123,587,439,False\\n79,6501403135,2979,52.0,170,65.0,151,-3281,-2993,False\\n80,6501396596,2323,47.2,129,57.0,149,-2391,-1837,False\\n81,6501394628,2127,120.8,157,138.8,154,-4450,-6411,False\\n82,6501388577,2253,69.2,176,53.4,147,3982,4034,True\\n83,6501387955,1444,42.4,100,58.2,144,-3867,-3518,False\\n84,6501386879,3233,61.0,182,56.6,155,1051,725,True\\n85,6501386501,1870,48.2,128,57.4,195,-2365,-2846,False\\n86,6501380051,1846,50.8,114,55.2,104,-1043,460,True\\n87,6501377797,2013,57.0,145,53.8,145,813,402,True\\n88,6501376588,663,122.0,109,108.6,88,3331,8914,True\\n89,6501375523,2587,61.4,214,64.2,220,-684,-724,False\\n90,6501375380,849,137.8,120,185.4,182,-11800,-12987,False\\n91,6501374122,969,145.6,171,124.8,150,5126,5114,True\\n92,6501373794,2298,48.4,127,54.0,129,-1403,-534,False\\n93,6501373349,929,89.8,84,168.6,160,-19444,-20081,False\\n94,6501373114,968,152.6,131,141.0,152,2868,2310,True\\n95,6501373035,1007,89.6,88,156.2,180,-16444,-10671,False\\n96,6501372042,1020,114.6,125,125.4,152,-2652,-6466,False\\n97,6501371594,3368,45.0,134,60.2,164,-3782,-2362,False\\n98,6501371233,740,150.0,125,101.2,116,12064,15686,True\\n99,6501371013,1722,69.4,241,59.6,197,2472,2891,True\\n100,6501370575,879,112.4,99,120.0,130,-1946,-10453,False\\n101,6501370462,828,147.6,149,122.6,141,6180,6156,True\\n102,6501370432,670,46.6,88,49.4,78,-769,-44,True\\n103,6501370114,1018,44.8,69,55.0,152,-2515,-4596,False\\n104,6501368986,2632,58.8,170,52.2,112,1678,1171,True\\n105,6501368892,1094,142.6,158,169.2,182,-6582,-2795,True\\n106,6501368224,1037,154.2,170,112.6,92,10324,21191,True\\n107,6501367838,1099,158.6,145,108.8,87,12348,20427,True\\n108,6501367370,983,144.0,118,109.0,73,8659,21348,True\\n109,6501366482,929,144.6,117,121.6,112,5786,9040,True\\n110,6501366416,1070,177.6,227,93.6,115,20778,9999,True\\n111,6501366368,1178,183.2,253,128.4,167,13606,14233,True\\n112,6501366256,1275,145.0,127,139.0,176,1482,6077,True\\n113,6501366142,623,107.4,73,145.8,175,-9500,-17074,False\\n114,6501365611,1349,129.8,138,177.2,184,-11718,-20267,True\\n115,6501365506,870,106.6,127,137.8,132,-7768,-9925,False\\n116,6501365354,1012,151.8,193,134.2,112,4356,4806,False\\n117,6501365289,1197,51.8,108,50.6,122,220,-1791,False\\n118,6501365285,1310,125.6,112,130.2,176,-1096,-889,True\\n119,6501365268,1137,144.2,142,135.4,125,2170,5351,False\\n120,6501385846,1097,144.6,161,120.0,104,6066,5950,True\\n121,6501364435,1066,128.0,107,148.4,168,-5066,-6767,True\\n122,6501364077,1247,127.2,80,147.8,123,-5136,-5214,True\\n123,6501363925,1266,144.8,154,109.4,115,8786,11770,True\\n124,6501383710,1060,100.0,98,134.4,119,-8528,-8544,False\\n125,6501383329,1176,56.8,147,39.8,110,4200,4226,True\\n126,6501382362,667,164.4,147,79.4,30,21038,21377,True\\n127,6501363373,1419,127.2,163,131.4,150,-992,-1185,True\\n128,6501363362,1423,124.8,109,142.8,104,-4440,-8025,False\\n129,6501362965,1260,125.8,154,130.2,177,-1052,-1721,False\\n130,6501362812,1427,133.8,165,135.8,150,-476,-7240,True\\n131,6501362797,1005,158.6,201,104.2,127,13417,20368,True\\n132,6501362761,1311,123.2,142,124.2,180,-256,-2533,False\\n133,6501362717,1227,52.4,129,43.8,120,2104,2072,True\\n134,6501362409,1310,164.0,123,157.8,152,1556,-219,False\\n135,6501362066,1399,68.4,196,57.6,217,2678,2393,True\\n136,6501362044,1432,52.0,128,53.6,126,-308,901,True\\n137,6501447021,1748,54.8,184,48.2,145,1602,1907,False\\n138,6501388641,951,150.0,151,117.4,153,8080,4692,True\\n139,6501386310,893,154.2,218,165.2,175,-2680,-6554,False\\n140,6501385250,973,53.8,121,58.8,50,-1209,4961,True\\n141,6501385228,853,171.2,260,118.6,107,12966,14444,True\\n142,6501384781,711,60.8,73,81.4,179,-5075,-10046,False\\n143,6501383588,1075,56.6,160,49.0,108,1862,2374,True\\n144,6501382976,987,184.6,157,134.8,137,12320,14181,True\\n145,6501381939,1008,107.8,112,114.4,163,-1684,-1203,False\\n146,6501381548,1257,145.8,157,103.6,134,10460,16063,True\\n147,6501381475,1292,139.0,130,128.4,173,2640,687,False\\n148,6501381099,1107,114.6,112,160.8,181,-11408,-10457,False\\n149,6501380836,1241,111.2,104,131.4,129,-4968,-2940,False\\n150,6501380521,1248,128.6,151,151.6,147,-5700,-4568,True\\n151,6501380440,1111,109.0,97,133.4,141,-6044,-5234,False\\n152,6501379644,1344,136.6,174,132.4,131,1056,2684,True\\n153,6501379036,1093,140.8,132,144.4,87,-836,-4410,False\\n154,6501378930,1172,87.8,99,118.0,111,-7510,-8685,True\\n155,6501378424,877,180.2,221,143.8,207,8972,15048,True\\n156,6501378135,1042,188.0,233,132.4,176,13808,17018,True\\n157,6501377992,1071,62.6,148,42.4,98,4937,4569,True\\n158,6501377842,1232,122.8,86,141.6,137,-4686,-131,False\\n159,6501377679,1408,132.2,105,121.2,99,2734,3587,False\\n160,6501377477,1175,44.8,147,68.0,219,-5723,-4082,False\\n161,6501377429,1140,124.0,98,146.6,136,-5624,-8141,False\\n162,6501377293,1106,123.4,149,146.2,223,-5620,-12899,True\\n163,6501377084,1259,143.6,191,157.6,220,-3418,-8490,False\\n164,6501376911,1409,109.4,114,131.6,163,-5548,-6092,False\\n165,6501435311,2959,58.6,178,51.0,107,1957,2313,False\\n166,6501405881,830,120.0,56,177.0,137,-14074,-6289,True\\n167,6501403492,772,56.0,118,42.6,97,3378,3275,True\\n168,6501402017,3200,54.0,145,61.2,129,-1778,-1690,False\\n169,6501401314,920,127.4,121,139.8,119,-3036,8107,True\\n170,6501401291,1056,40.6,53,44.6,82,-973,-3438,False\\n171,6501400904,950,42.6,114,56.4,147,-3461,-2394,True\\n172,6501400815,850,134.4,177,167.2,226,-8152,-12732,False\\n173,6501400687,1047,97.4,53,135.2,140,-9302,-714,False\\n174,6501400584,1009,166.8,201,115.2,151,12744,12616,True\\n175,6501400449,1013,123.6,115,154.6,122,-7694,-7089,False\\n176,6501399691,1144,133.8,107,120.0,99,3410,10197,True\\n177,6501398407,972,140.8,110,138.0,141,710,-117,True\\n178,6501397430,973,53.6,183,70.8,189,-4268,-4409,False\\n179,6501397355,1053,145.4,155,127.8,105,4344,3785,True\\n180,6501396972,1114,184.0,147,149.6,119,8490,19788,True\\n181,6501396607,1103,45.6,117,63.8,180,-4474,-4123,False\\n182,6501396450,732,62.4,61,58.4,117,1013,-3733,False\\n183,6501396263,1280,110.4,159,123.6,176,-3248,-4830,True\\n184,6501395911,1012,108.0,107,145.2,140,-9214,-11206,False\\n185,6501395904,1118,124.6,109,139.6,143,-3672,-3296,True\\n186,6501395880,1304,169.6,261,101.0,120,16892,14651,True\\n187,6501395133,1343,140.2,169,138.2,105,486,-4119,True\\n188,6501395050,879,66.2,206,72.2,105,-1423,3552,True\\n189,6501394815,1220,165.6,139,125.2,112,9966,12532,True\\n190,6501394585,1290,159.2,162,104.8,155,13450,16861,False\\n191,6501394542,1317,110.2,112,128.0,113,-4336,-2532,False\\n192,6501394439,1230,129.6,98,148.0,152,-4502,-2026,False\\n193,6501394076,1127,134.0,143,153.8,151,-4938,-5257,False\\n194,6501393088,1032,148.0,157,125.8,155,5482,-2382,True\\n195,6501392974,1276,64.8,168,46.8,144,4495,4839,True\\n196,6501392346,1007,72.6,207,62.4,77,2513,9971,True\\n197,6501392084,1294,146.6,175,138.4,277,2022,-5327,True\\n198,6501391996,1382,150.2,165,139.0,168,2814,8292,True\\n199,6501391758,1373,57.4,154,51.2,139,1519,1066,False\\n200,6501391674,1141,72.8,209,46.6,131,6461,6437,True\\n201,6501460150,2152,53.0,125,47.2,112,1418,3537,True\\n202,6501448431,2057,56.6,150,58.2,159,-386,-1073,True\\n203,6501444956,2761,65.8,199,54.0,153,2916,1396,False\\n204,6501405125,894,126.0,157,106.8,105,4780,3443,True\\n205,6501402845,1035,157.0,204,114.0,179,10586,12742,True\\n206,6501402412,1129,146.4,106,112.6,86,8382,16791,False\\n207,6501402223,1089,171.2,177,128.2,131,10620,12190,True\\n208,6501399310,1311,118.0,122,113.4,107,1116,3937,True\\n209,6501398963,1318,128.4,79,134.0,77,-1430,-739,False\\n210,6501396434,1374,135.2,161,127.0,178,2010,-1589,False\\n211,6501395926,1374,63.2,187,47.4,138,4017,3366,True\\n212,6501395777,1381,145.4,137,146.0,122,-214,-3939,False\\n213,6501394835,1362,91.4,77,137.4,117,-11346,-9669,False\\n214,6501470635,1567,61.6,149,47.0,124,3612,3608,True\\n215,6501470004,1707,47.6,127,62.6,149,-3701,-4978,False\\n216,6501462959,2290,122.6,105,109.6,99,3236,2113,True\\n217,6501408970,1066,118.2,118,128.2,136,-2504,-10491,False\\n218,6501406849,1044,116.0,155,165.8,220,-12372,-15722,False\\n219,6501406749,1086,147.6,206,102.8,88,11112,9119,True\\n220,6501406519,1098,145.4,130,103.2,95,10376,6938,False\\n221,6501404490,1102,58.8,144,52.6,144,1537,2471,True\\n222,6501403822,1183,156.8,193,135.0,186,5490,5860,False\\n223,6501403745,1242,153.6,138,165.0,138,-2878,-8357,True\\n224,6501403675,1246,142.6,114,134.0,149,2154,-2779,False\\n225,6501403204,1227,139.8,122,144.4,134,-1128,-2218,False\\n226,6501403155,1213,180.4,266,142.6,154,9364,12353,False\\n227,6501402925,1288,113.0,120,108.8,111,998,2397,False\\n228,6501402688,1309,127.4,125,150.2,126,-5640,-10844,False\\n229,6501402562,1154,38.6,79,58.6,163,-4970,-4181,False\\n230,6501402479,1221,120.0,145,153.2,152,-8168,-13246,False\\n231,6501401570,1249,115.4,125,81.6,24,8382,6909,True\\n232,6501401559,1231,149.2,139,149.0,166,28,-8475,False\\n233,6501400152,1296,132.0,151,115.2,123,4112,9238,True\\n234,6501472660,1884,48.0,132,54.8,152,-1644,-886,False\\n235,6501471093,2014,55.4,165,44.4,113,2702,1882,True\\n236,6501470097,2119,60.0,178,51.0,148,2265,2514,True\\n237,6501467632,2213,53.8,157,49.6,144,1066,1143,True\\n238,6501443757,2918,47.4,140,67.8,200,-5032,-4777,True\\n239,6501416159,725,179.4,180,127.0,161,12934,11121,True\\n240,6501411782,1049,130.6,148,159.4,187,-7182,-11163,False\\n241,6501411184,1132,171.0,165,136.4,152,8474,1643,True\\n242,6501410890,1064,155.4,158,115.2,114,9978,4777,True\\n243,6501410427,1089,164.4,143,137.4,184,6706,6111,True\\n244,6501410373,1050,162.8,144,131.8,158,7692,14761,True\\n245,6501410247,1090,113.2,88,134.2,135,-5214,-1062,False\\n246,6501409534,1175,130.2,176,85.8,118,10980,8108,True\\n247,6501409416,1200,136.4,179,141.6,198,-1256,2370,False\\n248,6501409011,1014,52.6,75,50.2,114,592,102,False\\n249,6501408968,1220,143.8,201,124.8,192,4744,3757,True\\n250,6501408033,1240,145.2,198,133.4,171,2938,-3235,False\\n251,6501407755,1278,158.6,168,125.2,115,8222,6152,True\\n252,6501407587,1285,90.2,112,150.4,160,-14928,-17027,False\\n253,6501407374,1344,165.6,107,142.6,122,5650,3732,True\\n254,6501407127,1197,162.4,200,110.4,94,12860,17928,True\\n255,6501407125,1247,134.8,118,165.8,140,-7666,-2879,True\\n256,6501407059,1177,120.2,109,118.2,104,552,-129,True\\n257,6501406805,1194,157.8,200,166.4,201,-2144,-185,False\\n258,6501406783,1282,45.8,78,43.8,109,451,-135,False\\n259,6501406549,1346,103.4,84,153.4,159,-12364,-11862,False\\n260,6501406548,1324,55.6,125,38.8,69,4128,3158,True\\n261,6501406032,1208,86.8,93,151.0,141,-15852,-16424,False\\n262,6501458497,2636,50.6,134,53.6,164,-832,1336,False\\n263,6501439366,2529,70.4,211,55.4,213,3667,2193,True\\n264,6501434798,816,114.0,138,147.8,164,-8330,-11199,False\\n265,6501433644,4234,45.0,95,42.4,101,662,-80,True\\n266,6501433444,913,113.0,108,139.4,145,-6580,-10223,False\\n267,6501430242,927,84.4,41,154.2,184,-17330,-13489,False\\n268,6501430232,622,64.6,150,45.4,113,4657,3917,True\\n269,6501429492,1011,129.6,115,161.8,102,-8017,-18265,False\\n270,6501429420,1061,138.8,174,111.6,80,6714,6618,True\\n271,6501429361,1053,128.6,142,94.8,58,8430,3067,True\\n272,6501428979,1074,138.0,155,140.2,151,-536,1534,False\\n273,6501428859,797,181.8,133,99.6,93,20478,18075,True\\n274,6501428216,953,110.4,177,152.6,139,-10352,-15282,False\\n275,6501428152,758,46.0,100,53.0,106,-1719,3071,False\\n276,6501428038,1162,139.8,121,127.6,113,3024,11975,True\\n277,6501428003,1142,119.6,90,135.2,106,-3830,-307,False\\n278,6501427855,1194,141.2,178,131.4,151,2410,-873,False\\n279,6501427823,1093,159.4,154,99.6,64,14748,13164,True\\n280,6501427237,763,58.6,151,41.4,81,4259,4943,True\\n281,6501427140,953,40.0,126,71.4,208,-7823,-6029,False\\n282,6501426269,1055,100.0,84,168.0,64,-16744,-13944,False\\n283,6501426225,749,51.2,65,68.8,141,-4369,-4290,False\\n284,6501426008,1022,87.4,90,159.2,158,-17768,-18452,False\\n285,6501425685,1339,104.6,127,112.8,98,-2078,-6394,True\\n286,6501425621,1335,155.2,129,147.4,170,1934,-4078,False\\n287,6501425611,1224,165.6,205,88.4,83,19110,11631,True\\n288,6501424501,1342,56.2,136,48.4,138,1865,1454,True\\n289,6501424351,1007,162.8,220,140.6,172,5568,14800,True\\n290,6501424163,1304,32.4,60,64.8,114,-8029,-8880,False\\n291,6501423421,1325,155.6,138,142.2,163,3258,292,True\\n292,6501423414,1284,128.4,101,111.4,93,4194,5271,True\\n293,6501423408,938,111.2,87,175.0,163,-15838,-5643,False\\n294,6501477240,1873,56.6,176,52.4,137,1046,-1013,True\\n295,6501433221,779,44.2,101,62.4,143,-4491,-4316,False\\n296,6501429362,1161,116.0,151,132.2,182,-3972,-8485,False\\n297,6501428925,3139,44.4,135,54.0,151,-2388,-1207,False\\n298,6501426727,1252,120.8,114,143.6,208,-5660,-9,True\\n299,6501489661,2171,52.0,138,47.2,106,1118,567,True\\n300,6501485157,1576,53.4,146,35.4,58,4459,4081,True\\n301,6501479573,2166,57.8,167,44.8,105,3212,2641,False\\n302,6501477224,2620,52.8,149,52.6,155,24,278,False\\n303,6501441621,714,155.0,157,98.2,122,14056,16617,True\\n304,6501439706,870,149.0,124,94.2,77,13534,18032,True\\n305,6501437988,912,168.4,125,99.8,54,17026,12214,True\\n306,6501435838,798,40.0,106,74.0,207,-8395,-8071,False\\n307,6501434220,1062,147.8,169,105.2,115,10496,11732,True\\n308,6501433073,1164,157.2,262,130.8,180,6526,11117,True\\n309,6501432161,1293,139.8,117,134.2,150,1412,6940,False\\n310,6501431945,1200,164.6,175,123.2,112,10230,8484,True\\n311,6501431542,1199,102.2,24,128.2,122,-6394,267,False\\n312,6501431034,1092,150.8,173,156.6,263,-1408,4014,False\\n313,6501430993,1357,122.4,129,152.8,172,-7536,-4748,True\\n314,6501430757,1291,143.8,156,113.0,146,7554,4661,True\\n315,6501430619,1176,121.6,128,122.8,182,-358,-1550,False\\n316,6501430082,1292,109.2,147,145.4,169,-8992,-4933,False\\n317,6501429930,1306,63.0,194,51.2,141,2957,2763,True\\n318,6501429454,1341,116.6,168,163.8,146,-11650,-15613,True\\n319,6501429403,1332,42.8,109,64.0,158,-5331,-5731,False\\n320,6501462527,2282,56.8,186,63.8,204,-1790,-1988,False\\n321,6501460962,3467,63.0,194,50.0,92,3178,5093,False\\n322,6501443003,3152,57.0,151,54.6,128,549,-1630,True\\n323,6501442495,2081,51.6,141,44.6,119,1737,183,True\\n324,6501439083,946,195.8,165,87.8,52,26658,20302,True\\n325,6501438754,2410,53.8,134,51.2,157,620,1068,False\\n326,6501437241,1064,159.8,189,151.2,184,2124,7855,True\\n327,6501435714,1134,179.6,166,155.0,128,6042,3369,True\\n328,6501433786,2610,44.6,109,51.0,135,-1587,-1277,False\\n329,6501496164,2702,52.6,139,44.0,109,2079,456,True\\n330,6501495256,2357,59.2,153,50.8,135,2124,1681,True\\n331,6501493590,2649,51.4,153,54.6,155,-804,-1381,True\\n332,6501444989,683,191.2,217,123.4,82,16737,17521,True\\n333,6501441556,842,51.0,119,67.8,187,-4095,-3933,False\\n334,6501439918,951,146.8,123,123.2,177,5824,7003,True\\n335,6501438458,1034,144.8,165,117.8,146,6689,12785,True\\n336,6501437966,1029,63.2,146,41.8,112,5207,5815,True\\n337,6501435801,1138,132.2,121,161.2,161,-7114,-9600,True\\n338,6501433314,1368,150.0,195,139.6,219,2544,-3437,True\\n339,6501503157,2028,56.6,155,57.2,144,-191,2539,True\\n340,6501496692,2543,46.8,148,53.4,136,-1621,-1806,True\\n341,6501490842,2401,56.0,119,50.8,141,1272,527,True\\n342,6501487559,2326,47.0,119,52.0,94,-1199,-585,False\\n343,6501459423,2333,51.0,159,60.6,151,-2413,-1910,True\\n344,6501454875,655,72.8,179,50.4,44,5480,8318,True\\n345,6501454108,1121,140.2,149,128.2,144,2916,4184,False\\n346,6501453369,1079,140.8,135,147.0,151,-1522,-11589,True\\n347,6501452044,1176,58.2,172,44.6,90,3395,3997,True\\n348,6501451725,1116,132.4,149,145.4,146,-3212,-6175,True\\n349,6501451604,1182,128.8,137,127.8,122,228,233,True\\n350,6501451106,1170,114.8,82,167.2,170,-12894,-7885,False\\n351,6501450492,1126,136.8,170,138.2,175,-366,2939,False\\n352,6501450239,1131,123.2,141,150.4,251,-6710,-10533,False\\n353,6501450100,1235,146.0,127,113.6,110,8122,11975,True\\n354,6501449876,1258,93.2,81,145.6,123,-13000,-14276,False\\n355,6501449643,1263,116.6,159,113.0,147,940,-611,True\\n356,6501449551,996,89.8,115,182.0,266,-22812,-24771,False\\n357,6501449531,1153,127.6,106,167.8,153,-10018,-19440,True\\n358,6501449513,1184,69.2,184,39.0,102,7493,6451,True\\n359,6501449417,1075,119.8,134,120.8,119,-304,-3802,False\\n360,6501449272,1076,126.6,105,144.2,133,-4280,-9410,False\\n361,6501449065,1297,142.8,136,106.0,122,9060,11497,False\\n362,6501448918,1349,182.4,264,144.4,200,9402,248,True\\n363,6501448816,1210,162.8,202,128.4,127,8484,15273,True\\n364,6501448804,1305,146.6,128,114.4,111,8026,20192,True\\n365,6501448733,1319,158.4,193,104.0,90,13490,12441,True\\n366,6501514514,1887,45.8,92,54.4,121,-2105,-953,False\\n367,6501513064,1882,54.0,148,52.4,175,369,-9,True\\n368,6501503556,2257,56.0,151,48.6,141,1882,-199,True\\n369,6501457861,1041,177.4,140,130.0,104,11760,15807,True\\n370,6501457772,844,130.6,152,161.6,212,-7658,-12692,False\\n371,6501456357,1139,138.0,113,133.6,104,1012,7922,True\\n372,6501456304,952,56.4,115,56.4,130,-12,744,True\\n373,6501456126,1043,117.0,110,120.0,127,-748,463,True\\n374,6501455075,1193,152.2,148,109.4,117,10542,13073,True\\n375,6501454749,1230,133.2,92,133.8,138,-130,1598,True\\n376,6501453377,1174,33.8,76,61.8,164,-6900,-4639,False\\n377,6501452978,1263,141.4,175,115.0,120,6630,7642,True\\n378,6501452113,1261,144.0,127,89.0,78,13638,12192,True\\n379,6501451962,1371,115.2,115,148.8,161,-8372,-10326,False\\n380,6501451292,1413,105.2,156,136.2,200,-7620,-8381,False\\n381,6501532661,1779,53.2,165,57.0,141,-1000,-1152,False\\n382,6501524339,2566,46.0,144,47.2,117,-255,-1066,False\\n383,6501522970,2295,46.4,90,75.6,195,-7313,-6810,False\\n384,6501522578,2592,46.2,111,53.4,129,-1732,-1660,False\\n385,6501517549,2625,51.4,161,58.0,164,-1636,-991,True\\n386,6501513217,2736,50.6,116,57.2,136,-1609,-787,True\\n387,6501507891,2795,57.2,155,60.4,141,-698,-1444,False\\n388,6501503194,3086,48.6,132,53.2,107,-1136,-608,False\\n389,6501476553,892,154.6,142,111.2,175,10798,11133,True\\n390,6501476264,924,145.0,181,119.6,126,6320,3167,True\\n391,6501474991,889,137.4,120,185.6,192,-11880,-9266,False\\n392,6501473819,1013,116.6,81,132.4,140,-3930,-4662,True\\n393,6501473249,1134,127.6,109,153.8,151,-6542,-8201,False\\n394,6501473009,988,146.2,171,127.0,192,4846,2433,False\\n395,6501472797,940,57.4,124,54.8,157,647,-410,True\\n396,6501472003,999,48.4,157,58.0,203,-2334,-2882,False\\n397,6501471036,1248,136.6,116,82.6,81,13338,13319,True\\n398,6501470327,761,146.4,171,117.8,146,6980,-5195,True\\n399,6501470131,849,148.4,178,111.8,158,9084,7239,True\\n400,6501470060,880,127.6,137,114.8,91,3160,-557,False\\n401,6501469865,1173,125.6,116,125.8,94,-44,10057,True\\n402,6501469833,647,59.6,128,54.6,91,1214,2863,True\\n403,6501469766,1253,144.8,153,88.4,136,13966,14629,True\\n404,6501469072,1270,58.2,149,55.2,150,670,263,True\\n405,6501469014,1198,134.0,148,157.0,217,-5722,-11393,True\\n406,6501468920,973,142.0,137,78.4,86,15704,13956,True\\n407,6501468894,1032,140.0,146,93.0,93,11628,12574,True\\n408,6501468783,938,149.4,174,136.4,182,3244,6309,True\\n409,6501468618,1356,111.4,125,131.2,101,-4886,-2375,True\\n410,6501496765,2216,60.6,218,62.4,207,-407,-19,True\\n411,6501490040,626,88.2,62,146.2,135,-14358,-17855,False\\n412,6501483633,983,130.2,167,126.8,118,868,-893,True\\n413,6501483554,1104,123.6,133,149.4,174,-6433,-6188,False\\n414,6501482991,1035,159.0,265,118.8,213,9918,10909,True\\n415,6501482527,1088,142.0,130,158.4,149,-4110,-1943,True\\n416,6501482055,1091,141.0,157,112.8,83,7014,3556,True\\n417,6501481445,1146,137.0,139,115.6,111,5254,-361,True\\n418,6501480997,1051,101.2,133,133.8,120,-8076,-8863,False\\n419,6501480995,1167,129.0,136,133.2,135,-1018,-10066,True\\n420,6501480726,1087,148.2,155,112.6,110,8806,15738,True\\n421,6501480458,886,159.6,143,142.6,153,4222,6991,False\\n422,6501480162,1252,63.6,169,58.6,95,1132,6477,True\\n423,6501479393,1349,152.0,193,114.4,162,9256,7545,True\\n424,6501478487,1233,36.4,87,58.0,153,-5373,-5436,False\\n425,6501477725,1398,138.4,188,140.4,221,-544,1028,True\\n426,6501477560,1316,145.4,125,99.0,118,11452,11038,True\\n427,6501477418,1419,144.2,139,115.6,158,7104,7058,True\\n428,6501477295,1466,104.2,81,97.2,85,1700,1514,False\\n429,6501477279,1176,141.2,200,171.2,186,-7452,-5444,True\\n430,6501476864,994,124.2,135,177.6,206,-13180,-14446,False\\n431,6501476588,1446,61.0,141,55.0,150,1544,1654,True\\n432,6501476491,1205,94.2,119,133.2,173,-9650,-10161,True\\n433,6501476470,1084,135.6,174,124.4,142,2666,6151,True\\n434,6501476364,1369,59.8,174,48.4,111,2861,1535,True\\n435,6501533111,1798,64.6,192,52.2,173,3057,2436,True\\n436,6501520235,3291,48.2,130,49.0,130,-183,-28,False\\n437,6501510748,2138,59.4,226,57.4,177,457,-164,True\\n438,6501534358,2962,53.0,147,47.6,134,1345,1671,False\\n439,6501527799,1204,125.4,89,141.2,118,-3874,-6789,False\\n440,6501550604,2088,57.6,206,67.2,241,-2400,-1103,False\\n441,6501544692,2300,50.2,100,56.4,124,-1632,-2765,True\\n442,6501560264,1544,54.8,157,46.2,100,2168,2101,True\\n443,6501537678,2965,53.2,133,55.2,153,-472,-467,True\\n444,6501533818,1561,134.8,163,126.6,140,2080,6640,False\\n445,6501533545,2104,57.2,201,54.6,182,663,1415,True\\n446,6501532891,824,42.8,83,60.8,144,-4419,-1984,False\\n447,6501531003,705,42.2,122,61.2,161,-4669,-4491,False\\n448,6501530339,736,165.2,138,79.0,83,21336,14006,True\\n449,6501529341,1018,45.6,117,61.4,162,-3867,-4570,False\\n450,6501528405,1164,137.4,173,99.2,122,9420,9991,True\\n451,6501526658,1188,145.8,217,121.8,215,5982,5659,True\\n452,6501526611,796,42.8,75,49.8,129,-1767,-4210,False\\n453,6501526477,1007,70.4,209,38.4,67,7928,9130,True\\n454,6501526079,1143,69.2,176,45.6,131,5865,5668,True\\n455,6501525637,853,49.8,150,58.2,145,-2073,-980,True\\n456,6501525406,994,171.2,183,107.6,143,15796,15433,True\\n457,6501525014,978,150.2,176,121.4,92,7074,7536,True\\n458,6501524984,1388,116.8,111,121.2,107,-1150,8990,False\\n459,6501547880,2595,54.6,143,61.8,185,-1790,-693,True\\n460,6501544302,613,64.0,108,61.4,108,688,1800,True\\n461,6501540524,820,107.2,86,166.4,164,-14612,-12573,False\\n462,6501524154,1287,125.8,158,127.8,126,-446,992,True\\n463,6501524039,1286,45.0,128,54.8,167,-2419,-1294,False\\n464,6501523717,1214,55.0,189,69.4,220,-3635,-3241,False\\n465,6501523653,1366,61.6,188,64.8,191,-876,-3822,False\\n466,6501523625,1182,136.0,133,131.8,155,1088,113,True\\n467,6501523250,1344,112.8,121,149.4,147,-9124,-12466,True\\n468,6501523167,1308,128.6,143,145.2,180,-4126,555,True\\n469,6501522944,1260,43.4,121,64.0,150,-5103,-4789,False\\n470,6501522867,1121,145.4,116,105.8,111,9780,12022,True\\n471,6501522628,1109,138.2,169,94.8,111,10646,9498,True\\n472,6501522251,1516,165.4,167,137.6,101,6896,2635,False\\n473,6501522228,1050,160.6,122,130.4,114,7396,7929,True\\n474,6501522016,1397,141.2,160,127.4,153,3488,7070,True\\n475,6501521893,1234,134.2,224,134.0,223,22,572,True\\n476,6501521867,1340,69.8,190,47.8,166,5486,4155,True\\n477,6501521806,1480,113.8,128,164.8,187,-12646,-12592,False\\n478,6501521743,1545,164.0,170,163.2,116,152,-82,True\\n479,6501521719,951,151.2,222,107.0,99,10938,13948,True\\n480,6501540098,1186,173.0,201,132.6,169,9978,13158,True\\n481,6501539668,1171,49.6,122,51.8,130,-511,1217,False\\n482,6501539601,1223,112.8,138,148.2,225,-8816,-6868,True\\n483,6501539421,1198,145.2,155,99.4,122,11402,14727,True\\n484,6501539074,923,47.6,110,61.0,198,-3234,-3841,False\\n485,6501539049,1033,96.6,112,170.0,205,-18116,-16303,False\\n486,6501538995,1211,154.4,196,137.8,239,4154,2386,True\\n487,6501537591,1247,126.2,89,136.4,133,-2528,4841,True\\n488,6501537573,1110,137.6,139,132.6,194,1292,1083,True\\n489,6501537297,1347,103.6,90,142.2,151,-9590,-10811,False\\n490,6501537083,1070,135.4,80,86.0,71,12188,17548,True\\n491,6501536932,1046,62.2,177,46.8,126,3863,3843,True\\n492,6501536872,1142,134.0,181,136.8,167,-692,-5864,True\\n493,6501536824,1313,159.0,179,126.0,109,8186,12516,True\\n494,6501536727,1190,127.4,151,146.0,191,-4514,-8465,False\\n495,6501536615,1178,135.8,182,139.0,168,-714,-2082,True\\n496,6501536609,1289,117.6,146,129.8,178,-2964,-370,True\\n497,6501536166,1120,51.4,126,49.2,110,582,-770,True\\n498,6501535755,949,146.6,108,157.8,154,-2792,3027,True\\n499,6501535669,1109,147.4,182,92.6,105,13510,15038,True\\n500,6501535581,1146,135.4,173,112.0,149,5772,4873,True\\n501,6501535496,1384,139.6,148,102.2,129,9272,7776,True\\n502,6501535230,968,105.2,152,154.4,188,-12072,-7151,False\\n503,6501535210,620,47.6,44,71.6,187,-5907,-8393,False\\n504,6501534976,968,146.2,137,111.8,90,8470,6050,True\\n505,6501534826,1325,136.2,138,144.4,122,-1980,-8543,True\\n506,6501534797,1642,149.8,108,163.8,160,-3500,1994,False\\n507,6501534712,1151,111.4,148,139.2,186,-6836,-5378,False\\n508,6501534373,1495,105.8,98,113.2,92,-1878,4032,False\\n509,6501534160,1650,150.0,169,124.6,70,6282,7344,True\\n510,6501533850,945,76.2,77,177.2,178,-25018,-22213,False\\n511,6501533829,1575,53.6,173,71.4,189,-4321,-4320,False\\n512,6501533739,660,47.2,146,58.0,197,-2699,-4230,False\\n513,6501533730,1419,146.6,160,127.0,137,4854,3780,True\\n514,6501533620,1536,125.0,165,128.6,114,-850,2630,True\\n515,6501533207,852,49.4,143,69.6,162,-5011,-4586,False\\n516,6501533190,1505,53.8,163,48.8,129,1175,115,True\\n517,6501533123,1273,127.4,106,124.8,128,612,2125,True\\n518,6501570412,1466,47.0,129,61.8,172,-3637,-3319,False\\n519,6501569972,1654,67.0,190,49.4,111,4364,5847,True\\n520,6501562338,682,35.4,69,77.2,175,-10366,-8023,False\\n521,6501560154,742,90.6,67,220.2,188,-32065,-26644,False\\n522,6501558100,1002,143.8,183,162.2,217,-4596,-996,False\\n523,6501558032,1047,179.4,199,107.2,135,17954,17624,True\\n524,6501557598,1159,136.2,224,113.6,131,5622,1003,True\\n525,6501557492,1189,149.6,167,128.0,114,5352,14176,True\\n526,6501557252,780,170.6,170,125.6,125,11206,5793,True\\n527,6501557250,702,161.6,167,73.8,20,21698,21901,True\\n528,6501556517,1283,137.6,144,149.2,220,-2882,-4698,False\\n529,6501556384,2566,48.4,120,61.0,151,-3094,-3255,True\\n530,6501555681,1303,120.8,151,149.8,150,-7220,-2758,True\\n531,6501555529,1281,138.6,125,137.0,135,382,339,False\\n532,6501555276,1064,114.2,127,110.2,114,1022,-1948,True\\n533,6501554762,1038,137.6,138,158.0,164,-5118,-2520,False\\n534,6501554406,818,170.8,160,107.4,98,15722,19323,True\\n535,6501554360,1396,144.4,148,140.0,140,1064,-1163,False\\n536,6501554153,1298,53.8,100,71.0,197,-4288,-3401,False\\n537,6501553821,1342,56.8,118,38.2,82,4513,3657,True\\n538,6501553490,1445,63.6,174,57.6,184,1476,719,True\\n539,6501553448,1513,126.4,109,123.4,124,720,2329,True\\n540,6501553268,1295,121.0,117,119.0,120,526,-8412,False\\n541,6501553207,1328,134.6,146,132.4,164,576,2408,False\\n542,6501553206,1064,147.8,169,95.4,99,12932,10178,True\\n543,6501553125,1281,142.6,171,101.4,117,10156,7919,True\\n544,6501553089,1196,71.8,231,45.4,153,6554,5245,True\\n545,6501552997,1479,151.0,166,150.0,147,256,-608,True\\n546,6501552829,1515,56.0,153,50.2,158,1451,226,False\\n547,6501552749,1139,154.4,230,157.0,205,-668,770,False\\n548,6501552513,1564,141.8,179,161.8,190,-4916,-2915,False\\n549,6501552500,1361,122.8,138,145.4,152,-5530,-9245,False\\n550,6501552388,1400,123.0,108,134.8,144,-2870,-2128,False\\n551,6501552226,1522,51.2,143,63.0,178,-2913,-2777,False\\n552,6501552153,1080,122.8,147,145.2,179,-5548,-6794,False\\n553,6501552044,1442,132.4,188,160.4,190,-6930,-18363,False\\n554,6501551932,1387,57.2,140,46.8,115,2592,3034,True\\n555,6501551721,1434,113.6,107,118.8,99,-1292,-2484,True\\n556,6501551525,1148,58.2,171,42.0,117,4021,4695,True\\n557,6501551410,1653,135.4,115,110.6,111,6082,8480,True\\n558,6501551332,1370,53.8,146,46.8,140,1730,1095,True\\n559,6501551285,1394,139.8,201,131.2,172,2144,-264,True\\n560,6501551010,1620,62.2,180,35.0,78,6781,5694,True\\n561,6501550968,1615,59.0,147,54.8,148,1046,1568,True\\n562,6501550751,1525,112.2,124,138.6,115,-6562,-4321,True\\n563,6501550520,1155,89.4,112,151.4,149,-15408,-10236,False\\n564,6501550289,1618,162.2,167,102.8,101,14650,15058,True\\n565,6501550144,1610,71.2,171,41.8,103,7288,6083,True\\n566,6501560997,1065,143.2,204,84.0,105,14602,12088,True\\n567,6501560705,1131,114.4,140,129.4,133,-3666,3462,False\\n568,6501560473,1087,155.4,180,109.2,105,11408,11348,True\\n569,6501560299,1060,132.4,159,140.6,129,-2030,-10757,True\\n570,6501559499,1200,160.8,173,124.4,83,9052,4081,True\\n571,6501558854,1281,126.6,144,135.6,139,-2220,-3455,False\\n572,6501556097,1342,61.4,168,54.4,132,1679,1427,True\\n573,6501555790,1415,146.8,139,115.8,151,7684,7577,False\\n574,6501555464,1550,125.0,118,143.2,149,-4520,-5379,True\\n575,6501555175,1519,132.4,173,151.2,165,-4632,-9691,False\\n576,6501554866,1593,160.2,135,126.2,116,8426,5176,True\\n577,6501553825,1611,60.4,189,62.6,169,-631,1682,True\\n578,6501552572,1700,124.0,129,137.6,188,-3360,-4588,True\\n579,6501562591,1012,140.2,119,95.6,119,11088,12510,True\\n580,6501562158,1094,125.4,105,109.0,125,4112,5471,True\\n581,6501561928,3101,45.8,123,54.2,130,-2092,-109,True\\n582,6501560555,1160,118.6,133,90.4,105,6990,10488,True\\n583,6501559884,1244,121.8,151,151.4,183,-7362,-7108,True\\n584,6501559645,1231,133.6,140,103.4,127,7444,12354,True\\n585,6501559569,1279,135.0,117,115.6,102,4814,6963,True\\n586,6501559308,1213,46.2,103,72.8,210,-6548,-6850,False\\n587,6501558253,1402,143.8,142,110.6,152,8246,8629,True\\n588,6501558013,1358,56.4,125,37.4,36,4621,5469,True\\n589,6501557984,1395,96.6,98,141.6,210,-11054,-8171,False\\n590,6501557738,1484,125.8,102,143.2,179,-4310,839,False\\n591,6501557555,1448,124.2,138,97.6,126,6658,9555,True\\n592,6501557531,1481,130.2,135,143.0,190,-3216,-1333,False\\n593,6501557303,1472,118.6,160,132.6,148,-3422,-2526,True\\n594,6501557156,1332,55.2,157,42.0,113,3208,3436,True\\n595,6501556532,1604,121.4,172,133.2,163,-2936,-3206,False\\n596,6501556317,1582,122.8,114,100.4,103,5536,3254,True\\n597,6501555226,1650,61.4,125,51.4,127,2508,3196,True\\n598,6501554755,1620,44.8,101,63.6,169,-4671,-4997,False\\n599,6501554613,1566,138.2,129,159.0,161,-5146,-10881,True\\n600,6501569585,803,105.8,130,145.2,149,-9660,-11455,False\\n601,6501568418,983,152.0,111,116.8,129,8664,7620,True\\n602,6501568163,838,82.4,97,193.6,222,-27512,-22466,False\\n603,6501567106,767,48.4,99,59.8,130,-2868,-3053,False\\n604,6501566961,1148,119.0,134,134.2,170,-3734,-8710,False\\n605,6501566785,1039,144.6,90,120.0,70,6108,5179,True\\n606,6501566746,1231,171.6,168,134.4,139,9186,11180,True\\n607,6501566465,1046,163.8,191,125.0,147,9600,5106,True\\n608,6501566226,1278,161.2,150,122.0,104,9684,10530,True\\n609,6501565771,1059,119.2,152,149.2,137,-7414,-20014,False\\n610,6501565595,1262,124.6,151,121.0,169,898,2482,True\\n611,6501565506,1192,117.0,121,155.6,208,-9476,-7589,False\\n612,6501565482,1182,157.0,156,125.8,179,7684,8041,False\\n613,6501565372,1231,142.2,128,117.4,133,6182,7209,True\\n614,6501564835,1295,149.6,149,138.8,194,2690,-3312,True\\n615,6501564818,1216,179.8,200,106.2,107,18182,17572,True\\n616,6501564776,1435,161.6,179,135.2,147,6448,15391,True\\n617,6501564731,1381,109.0,80,141.6,134,-8156,-7580,False\\n618,6501564485,1295,48.2,124,62.2,197,-3510,-3157,False\\n619,6501564299,1143,141.6,170,136.0,190,1350,4007,True\\n620,6501564297,1200,120.6,130,105.6,122,3736,9908,True\\n621,6501564213,1374,122.6,146,122.0,195,108,1541,True\\n622,6501563911,1350,57.6,148,49.8,129,2016,3382,True\\n623,6501563853,1349,160.8,249,154.6,166,1544,2720,True\\n624,6501563784,1111,168.8,240,140.0,153,7118,11471,True\\n625,6501563379,1434,148.4,113,145.2,123,830,-2818,False\\n626,6501563269,1108,145.4,117,126.4,116,4764,17317,True\\n627,6501563242,1336,126.0,129,108.4,125,4270,8242,True\\n628,6501563123,1374,120.0,200,147.0,152,-6650,-1165,False\\n629,6501562853,1313,151.8,189,121.0,191,7562,5327,True\\n630,6501562850,1261,129.0,131,191.2,239,-15334,-23115,False\\n631,6501562847,1428,126.6,145,130.2,168,-946,-2829,True\\n632,6501562719,1359,49.8,112,65.2,192,-3787,-5966,False\\n633,6501562523,1122,133.0,161,133.8,142,-198,-1525,True\\n634,6501562364,1310,127.4,115,131.8,108,-1158,-3166,False\\n635,6501562277,2897,52.0,152,52.0,127,-39,1183,False\\n636,6501562261,1248,117.4,121,148.0,156,-7642,-2355,False\\n637,6501562183,1645,135.4,116,119.4,127,3982,5602,True\\n638,6501561991,1557,132.0,199,146.6,155,-3644,-4867,False\\n639,6501561966,1345,153.2,154,150.6,197,634,5582,True\\n640,6501561939,1291,101.4,118,157.2,168,-13764,-15703,False\\n641,6501561872,1561,138.2,160,143.4,180,-1278,-4272,True\\n642,6501561407,1251,131.8,176,144.8,141,-3158,-8079,False\\n643,6501573605,1071,91.6,107,174.4,142,-20510,-23859,False\\n644,6501571344,1264,133.4,161,102.2,148,7720,8723,True\\n645,6501571051,1126,122.8,128,122.6,148,108,2252,False\\n646,6501570817,961,159.0,152,129.4,111,7306,13594,True\\n647,6501570372,1227,116.8,143,158.0,204,-10254,-9735,False\\n648,6501570280,1053,100.8,151,137.4,145,-9054,-8656,False\\n649,6501569880,1286,50.0,127,72.6,247,-5619,-3791,False\\n650,6501569574,1194,56.6,151,24.4,8,8016,6351,True\\n651,6501569503,1325,81.0,93,84.4,90,-848,643,True\\n652,6501569392,1207,125.2,125,196.2,164,-17636,-21075,True\\n653,6501568647,1318,43.6,137,70.0,177,-6513,-6738,False\\n654,6501568555,1133,164.0,135,120.4,128,10772,3632,False\\n655,6501568365,1389,59.0,175,64.8,215,-1425,626,False\\n656,6501568106,1470,123.2,145,143.8,197,-5100,-9139,False\\n657,6501567884,1495,115.8,153,129.0,208,-3270,-7014,True\\n658,6501566985,1438,128.2,141,147.8,143,-4842,-3166,False\\n659,6501566844,1465,142.0,215,150.4,207,-2102,-789,True\\n660,6501566691,1356,67.6,209,50.2,152,4319,2467,True\\n661,6501566387,1452,121.4,158,159.2,228,-9287,-5551,False\\n662,6501566199,1413,130.6,140,96.6,89,8330,6250,True\\n663,6501566069,2115,47.2,162,60.4,154,-3217,-3005,True\\n664,6501565842,1635,43.6,112,57.8,125,-3542,-4168,False\\n665,6501565625,1645,130.6,128,113.4,76,4312,11013,True\\n666,6501565524,1792,107.8,91,137.8,134,-7454,-9550,True\\n667,6501564625,1634,109.0,120,109.4,96,-70,402,True\\n668,6501564471,1666,62.0,197,53.2,173,2144,1377,True\\n669,6501564421,1773,51.0,142,46.0,102,1277,2404,True\\n670,6501580710,1103,104.4,123,137.4,116,-8174,-10617,False\\n671,6501580626,859,153.2,148,137.4,133,3902,14518,True\\n672,6501578374,1996,49.6,115,61.8,144,-2965,-3576,False\\n673,6501577809,1269,111.6,111,134.2,124,-5652,-5250,False\\n674,6501577594,1079,120.0,123,165.4,181,-11230,-17327,False\\n675,6501577140,824,52.2,161,65.0,183,-3159,-3654,False\\n676,6501577127,1062,129.2,115,105.4,83,5890,6841,True\\n677,6501576622,1140,151.6,160,163.0,220,-2880,1592,False\\n678,6501576527,1172,146.0,179,147.8,159,-550,-5680,True\\n679,6501576508,1043,162.2,224,152.4,181,2422,-7681,False\\n680,6501576202,1242,134.2,127,136.6,110,-650,1485,False\\n681,6501576167,815,106.2,123,160.0,196,-13244,-14524,False\\n682,6501575990,1241,113.8,105,148.0,160,-8404,-9087,False\\n683,6501575694,1430,46.4,117,53.2,143,-1668,-2350,False\\n684,6501575693,1268,132.2,88,150.0,153,-4406,-9860,False\\n685,6501575604,1241,80.8,76,116.2,112,-8812,-8617,False\\n686,6501575467,1226,168.0,187,114.6,132,13150,12074,True\\n687,6501575405,1415,143.0,128,103.2,90,9825,13234,True\\n688,6501575251,1135,135.8,187,123.4,165,3100,2241,True\\n689,6501575118,993,145.2,154,139.8,148,1366,1968,True\\n690,6501574874,1261,147.8,176,117.0,122,7648,12027,True\\n691,6501574805,647,54.8,87,58.8,151,-1045,-1819,True\\n692,6501574371,1216,93.6,85,129.0,88,-8648,-9862,False\\n693,6501573989,1205,120.8,117,98.2,100,5537,1768,True\\n694,6501573904,961,133.0,107,190.0,200,-14134,-4640,False\\n695,6501573802,1385,163.6,207,142.8,216,5136,14963,True\\n696,6501573441,987,56.6,148,60.0,113,-835,2428,True\\n697,6501572978,1484,64.8,171,42.2,41,5655,6421,True\\n698,6501572973,1342,169.6,143,108.4,95,15098,19334,True\\n699,6501572730,1552,54.0,189,64.0,157,-2414,-1329,False\\n700,6501572569,1580,64.2,203,47.8,138,4111,4981,True\\n701,6501572550,1403,129.0,97,131.6,115,-650,2150,False\\n702,6501572461,1166,117.4,135,148.6,191,-7722,-5135,False\\n703,6501572399,1244,118.6,106,178.2,202,-14774,-9373,False\\n704,6501572295,1258,160.2,182,110.4,100,12280,16313,True\\n705,6501572085,1302,62.2,151,44.4,128,4490,3978,True\\n706,6501572046,1700,61.6,186,59.4,157,487,995,True\\n707,6501572011,1662,45.4,93,62.2,146,-4148,-3996,False\\n708,6501571970,1709,127.0,155,119.4,133,1914,-8867,True\\n709,6501571537,1650,48.4,133,63.4,153,-3712,-913,False\\n710,6501571411,1802,54.2,166,62.6,203,-2126,-3708,False\\n711,6501570935,1736,114.4,165,131.4,175,-4164,-7419,True\\n712,6501570919,1440,115.0,97,127.4,118,-3028,5014,True\\n713,6501570837,1583,44.2,137,50.2,141,-1553,-854,False\\n714,6501570826,1667,61.0,164,58.2,177,660,-1879,True\\n715,6501597790,1085,128.8,148,142.6,171,-3406,-6724,True\\n716,6501597412,1004,107.0,81,135.6,134,-7004,-2825,False\\n717,6501596795,1231,118.4,108,142.6,160,-5986,-2557,False\\n718,6501596403,938,199.2,223,105.2,52,23257,22165,True\\n719,6501596399,1149,74.4,226,42.8,112,7833,7720,True\\n720,6501596346,1222,103.6,151,151.0,190,-11730,-6470,False\\n721,6501596290,1022,61.2,155,55.6,74,1307,5753,True\\n722,6501596099,903,114.6,139,148.4,152,-8362,-12886,False\\n723,6501595766,1051,167.6,171,140.2,167,6776,8935,True\\n724,6501595564,1335,137.6,159,128.0,151,2336,7010,False\\n725,6501595316,1271,132.4,134,113.8,146,4526,7369,True\\n726,6501595116,1393,142.0,147,121.2,113,5042,3311,True\\n727,6501595044,823,100.8,75,159.4,144,-14514,-13735,False\\n728,6501594692,1091,126.6,98,125.4,81,396,11047,True\\n729,6501594603,1333,144.8,126,139.8,147,1172,-7834,False\\n730,6501594590,1369,103.6,117,128.8,133,-6312,-6723,False\\n731,6501594527,1394,68.0,207,45.4,134,5611,5930,True\\n732,6501594385,1350,64.0,185,47.8,115,3960,3301,True\\n733,6501594336,1377,132.4,134,138.8,175,-1574,-2959,True\\n734,6501593866,1469,109.4,123,127.8,150,-4494,1589,False\\n735,6501593699,1461,116.0,158,133.0,149,-4240,-4129,False\\n736,6501593554,1042,129.0,117,159.8,149,-7492,-16041,False\\n737,6501593455,1169,130.4,180,118.0,122,2954,6376,True\\n738,6501593265,1456,49.8,137,41.0,130,2186,3724,True\\n739,6501592923,1898,154.0,198,125.4,167,7134,8116,True\\n740,6501592637,1455,107.2,122,149.8,140,-10552,-14900,False\\n741,6501592600,1446,55.6,149,61.2,169,-1450,-1891,True\\n742,6501592540,1192,158.4,145,122.4,111,8910,11821,True\\n743,6501592509,1364,157.2,159,140.2,132,4130,405,True\\n744,6501592204,968,90.6,104,143.0,165,-12964,-12161,False\\n745,6501592169,1310,176.6,213,95.8,147,19926,19816,True\\n746,6501592054,1636,129.6,116,159.6,140,-7368,-4250,False\\n747,6501592019,1537,55.8,149,57.8,151,-555,-593,True\\n748,6501591938,1305,121.0,109,128.6,132,-1834,3032,False\\n749,6501591906,1568,56.2,137,43.4,95,3094,2714,True\\n750,6501591903,1330,56.2,153,46.6,123,2348,4171,True\\n751,6501591779,1596,58.4,143,46.8,93,2921,3140,True\\n752,6501591672,1495,114.2,135,110.6,124,906,-803,True\\n753,6501591668,1569,118.2,152,157.8,203,-9830,-20989,False\\n754,6501591626,1603,140.0,157,137.0,107,742,-8190,False\\n755,6501591287,1058,40.2,117,68.8,198,-7073,-6113,False\\n756,6501591224,1216,128.8,197,147.8,149,-4666,-7967,False\\n757,6501591141,1634,116.0,150,141.0,163,-6120,-11617,True\\n758,6501591138,1512,98.2,74,153.8,167,-13740,-9145,True\\n759,6501591021,1588,152.6,163,147.4,176,1278,-300,False\\n760,6501591010,1460,54.4,155,57.8,138,-874,-872,True\\n761,6501590992,1518,53.0,120,53.4,169,-109,283,True\\n762,6501590808,1564,151.6,221,120.2,182,7740,14428,True\\n763,6501590780,1549,58.6,128,46.4,94,3062,3566,True\\n764,6501590750,1070,200.0,152,94.4,109,26140,17441,True\\n765,6501603717,638,71.6,196,41.0,51,7626,10508,True\\n766,6501601700,1019,145.0,170,104.4,105,10046,9275,True\\n767,6501601634,889,166.6,197,138.0,200,7116,11317,True\\n768,6501601385,1007,105.0,137,176.8,177,-17792,-22336,False\\n769,6501601130,956,100.4,130,151.4,159,-12654,-11371,False\\n770,6501599630,1200,157.2,141,118.2,124,9634,6685,True\\n771,6501598997,1178,100.0,109,148.6,151,-11996,-10187,False\\n772,6501598119,1282,121.0,104,169.0,160,-11896,-12239,False\\n773,6501598046,1145,150.4,150,131.6,124,4626,6675,True\\n774,6501596918,1376,56.4,178,56.2,156,53,-852,False\\n775,6501596712,1311,101.0,107,124.0,130,-5686,4031,True\\n776,6501596494,1415,52.2,129,45.6,134,1711,1176,True\\n777,6501595555,1575,55.6,127,61.2,146,-1355,-1294,True\\n778,6501595488,1438,106.6,160,132.0,171,-6288,-2743,True\\n779,6501595472,1569,41.6,112,67.6,193,-6433,-7017,False\\n780,6501595217,1549,64.0,152,54.2,137,2454,3899,True\\n781,6501595031,1668,116.0,126,119.0,121,-686,96,False\\n782,6501594243,1520,61.6,179,59.4,203,506,-92,True\\n783,6501594096,1696,67.4,200,49.2,111,4584,3419,True\\n784,6501593894,1637,46.4,116,57.8,163,-2812,-3481,False\\n785,6501593723,1626,58.6,171,49.0,124,2412,2367,True\\n786,6501593431,1650,149.0,148,127.6,107,5296,-1224,False\\n787,6501593312,1728,60.4,140,53.2,147,1782,2016,True\\n788,6501593226,1736,59.6,150,43.2,135,4074,3187,True\\n789,6501593114,1814,52.4,114,45.4,110,1765,3566,True\\n790,6501592992,1929,109.4,98,135.8,122,-6538,-5421,False\\n791,6501599701,1282,160.0,141,153.4,150,1666,-332,True\\n792,6501598718,1504,44.6,99,54.8,130,-2511,-1764,False\\n793,6501598640,1375,66.4,172,53.8,135,3099,1877,True\\n794,6501598556,1345,153.8,169,130.8,138,5698,13768,True\\n795,6501597972,1450,121.2,159,115.6,184,1340,882,False\\n796,6501596890,1552,56.4,153,56.2,168,-3,-529,True\\n797,6501596411,1697,44.8,114,57.8,154,-3194,-3006,False\\n798,6501596368,1594,65.8,150,46.4,110,4812,3432,True\\n799,6501596090,1627,42.4,101,42.8,111,-86,1652,True\\n800,6501594743,1850,45.0,99,60.2,157,-3748,-3205,False\\n801,6501594377,1848,60.8,143,54.2,137,1619,1163,True\\n802,6501593936,1836,68.6,171,49.8,125,4623,4388,True\\n803,6501609523,741,78.8,223,56.6,23,5476,12719,True\\n804,6501608617,972,117.0,155,169.8,180,-12976,-7901,False\\n805,6501608322,931,128.0,158,143.4,182,-3850,-3859,False\\n806,6501607658,729,78.2,199,46.2,108,7906,7988,True\\n807,6501607462,1133,150.6,163,103.0,122,11794,13703,True\\n808,6501607237,1088,153.4,204,125.0,158,6980,10663,True\\n809,6501606568,1279,142.0,176,153.0,152,-2778,-4384,False\\n810,6501606406,956,141.6,194,132.6,175,2312,5636,True\\n811,6501606392,1174,150.2,169,135.4,149,3586,5035,True\\n812,6501605940,1298,156.4,186,146.2,144,2518,9635,True\\n813,6501605836,1371,148.6,172,124.4,121,6008,6706,True\\n814,6501605229,1316,115.2,128,123.4,101,-1986,-3411,False\\n815,6501604839,1381,128.8,92,138.4,101,-2452,5925,False\\n816,6501604789,620,65.2,169,58.4,100,1655,6722,True\\n817,6501604476,1529,130.8,171,168.4,170,-9310,-8798,False\\n818,6501604470,1291,169.6,276,138.2,208,7862,3556,True\\n819,6501603905,1268,127.6,103,143.0,157,-3750,-4899,True\\n820,6501603825,1166,53.4,139,29.6,16,5809,6921,True\\n821,6501603668,1448,127.8,136,146.6,126,-4682,-5248,True\\n822,6501603609,1701,60.6,243,64.6,223,-1011,-1035,False\\n823,6501603585,1319,143.8,161,136.4,177,1884,9308,False\\n824,6501603552,1140,140.0,157,123.0,147,4192,2404,True\\n825,6501603466,1346,139.8,173,133.4,176,1540,-3528,False\\n826,6501603350,1653,55.2,182,48.2,143,1768,846,False\\n827,6501603173,1742,44.8,106,52.6,136,-1977,-2009,False\\n828,6501603041,1397,117.6,121,136.8,184,-4760,-11081,False\\n829,6501603030,1772,58.8,198,58.6,161,46,-344,True\\n830,6501602752,1484,108.6,131,143.8,181,-8770,-9429,False\\n831,6501602724,1309,166.0,164,145.6,163,5092,10353,True\\n832,6501602689,1732,55.8,143,48.2,122,1931,2243,True\\n833,6501602601,1153,106.6,130,150.0,138,-10696,-12127,True\\n834,6501602548,1756,56.0,128,58.4,182,-611,475,False\\n835,6501602467,1846,59.6,174,54.0,139,1359,846,False\\n836,6501602399,1851,54.0,156,49.4,153,1215,102,False\\n837,6501602368,1444,149.0,139,122.4,130,6622,13825,True\\n838,6501602289,1783,146.6,181,130.6,145,3878,-438,True\\n839,6501602201,1863,54.4,149,55.6,167,-260,-1347,True\\n840,6501602188,1535,57.2,143,55.6,120,385,-249,False\\n841,6501602168,1837,52.2,98,57.6,140,-1380,-1205,False\\n842,6501602027,1443,62.8,190,44.6,118,4548,2989,True\\n843,6501601988,1213,123.0,157,82.4,94,10060,7200,True\\n844,6501601953,1537,131.4,122,132.2,100,-194,5320,False\\n845,6501601866,1756,59.2,168,61.6,181,-617,-2958,False\\n846,6501601843,1832,48.2,111,56.0,146,-1903,-3027,False\\n847,6501601763,1262,155.4,162,137.4,144,4516,10618,False\\n848,6501601635,1908,54.8,132,53.6,155,334,-2435,False\\n849,6501608943,1166,156.6,238,136.2,228,5030,7641,True\\n850,6501608620,1169,142.0,125,121.6,132,5062,8255,True\\n851,6501608038,1232,94.4,126,141.4,180,-11670,-5765,False\\n852,6501606876,1343,136.2,140,123.2,158,3246,7574,False\\n853,6501605559,1479,142.2,111,157.2,135,-3700,818,True\\n854,6501604400,1545,41.8,106,57.6,115,-3905,-4717,False\\n855,6501603755,1789,60.0,151,41.8,96,4486,4635,True\\n856,6501603415,1846,55.0,142,56.0,146,-210,371,True\\n857,6501602964,1950,50.6,140,56.2,155,-1389,-208,False\\n858,6501602857,2080,120.0,127,113.4,75,1628,1435,True\\n859,6501602829,1874,67.0,176,66.4,182,116,-639,False\\n860,6501602653,1844,67.4,142,44.2,106,5734,4765,True\\n861,6501602546,1925,59.6,202,52.2,143,1815,2519,True\\n862,6501611467,921,168.2,251,113.0,134,13624,9778,True\\n863,6501609303,1179,168.0,164,121.6,136,11428,7590,True\\n864,6501609082,1158,151.6,177,111.4,144,9916,11926,True\\n865,6501606471,1405,52.6,118,56.6,172,-969,12,False\\n866,6501605576,1540,151.8,210,137.8,279,3516,4722,False\\n867,6501603893,2042,134.4,166,134.4,198,12,-863,False\\n868,6501603649,1976,42.0,110,45.8,136,-887,-656,False\\n869,6501603549,1962,51.6,87,56.6,157,-1238,-648,False\\n870,6501603484,1917,55.6,131,49.8,129,1432,1346,True\\n871,6501603122,1967,47.4,118,65.4,116,-4423,-3646,False\\n872,6501603052,2018,52.0,125,53.4,127,-343,1570,True\\n873,6501610214,1201,135.6,124,129.6,163,1520,8709,True\\n874,6501609894,1162,163.0,135,120.4,166,10564,1948,True\\n875,6501608860,1235,46.4,127,68.4,217,-5470,-6238,False\\n876,6501608250,1336,134.4,137,136.8,167,-618,1221,False\\n877,6501608007,1391,122.8,96,126.0,134,-780,-951,False\\n878,6501608004,1366,57.2,147,58.2,182,-162,-205,False\\n879,6501607895,1455,60.2,156,41.6,118,4573,4532,True\\n880,6501607832,1504,140.0,150,111.2,128,7112,1025,False\\n881,6501607626,1436,130.8,184,122.4,178,1972,-3080,True\\n882,6501606843,1527,52.0,125,51.2,102,217,451,True\\n883,6501606791,1631,133.4,122,125.8,105,1888,-695,True\\n884,6501606408,1766,149.2,138,138.2,137,2764,803,False\\n885,6501606382,1642,155.6,162,163.4,170,-1890,-11176,True\\n886,6501605981,1800,120.4,161,112.0,127,2098,9430,True\\n887,6501605220,1669,66.2,202,65.4,195,240,-1049,True\\n888,6501605193,1634,49.8,155,51.2,135,-335,-1077,True\\n889,6501604877,1698,46.6,113,55.0,192,-2101,-3095,False\\n890,6501604610,1770,54.8,148,56.6,160,-519,1077,True\\n891,6501604600,1772,47.0,103,57.2,164,-2552,-4015,False\\n892,6501604570,1918,117.8,108,127.8,121,-2446,-8400,False\\n893,6501613440,921,111.8,97,158.2,122,-11462,-13954,False\\n894,6501611927,1006,62.8,160,54.0,182,2199,1878,True\\n895,6501611337,1146,157.2,201,117.6,124,9794,8627,True\\n896,6501610344,1259,46.6,96,54.2,112,-1921,-548,True\\n897,6501605086,1830,58.0,145,44.6,118,3273,2709,True\\n898,6501613305,1127,149.2,195,156.6,176,-1832,5222,True\\n899,6501611230,1346,59.6,114,44.6,95,3686,4682,True\\n900,6501611168,1375,126.0,104,154.2,153,-6956,-7112,False\\n901,6501611112,1423,145.4,163,128.4,130,4192,8122,True\\n902,6501610984,1413,114.4,107,133.2,128,-4554,-1819,False\\n903,6501609767,1432,146.8,167,117.4,152,7188,6087,True\\n904,6501609322,1566,59.2,143,65.4,167,-1541,-921,False\\n'"
            ],
            "application/vnd.google.colaboratory.intrinsic+json": {
              "type": "string"
            }
          },
          "metadata": {},
          "execution_count": 594
        }
      ]
    }
  ]
}
